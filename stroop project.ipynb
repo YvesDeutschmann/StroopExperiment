{
 "cells": [
  {
   "cell_type": "markdown",
   "metadata": {},
   "source": [
    "# Stroop Project"
   ]
  },
  {
   "cell_type": "markdown",
   "metadata": {},
   "source": [
    "## Question 1: What is our independent variable? What is our dependent variable? <br>\n",
    "\n",
    "In the Stroop test, the independent variable is the structure of the list that is presented to the particpants od the experiment. So, we have two groups for the independent variable depending on wether the font name and colour were similar or different. <br>\n",
    "The dependent variable is the time between the stimulus and the response. Here it is the time it takes to solve the task in relation to the presented list of words."
   ]
  },
  {
   "cell_type": "markdown",
   "metadata": {},
   "source": [
    "## Question 2: Specify the null and alternative hypotheses based on what you think the researchers might be interested in <br>\n",
    "\n",
    "used symbols: <br>\n",
    "$H_0$: null hypthesis <br>\n",
    "$H_1$: alternative hypothesis <br> \n",
    "$\\mu_{C}$: poulation mean for congruent dataset <br>\n",
    "$\\mu_{I}$: poulation mean for incongruent dataset <br><br>\n",
    "\n",
    "The point for starting the exmaination is that there is no significant difference in population means of response time under incongruent and congruent conditions. So we difine our null hypothesis as follows: <br>\n",
    "$$H_0: \\mu_{C} - \\mu_{I} = 0$$\n",
    "\n",
    "I would expect, that the population mean of the response time under incongruent condition will be significantly larger than the response time under congruent condition. So we define our alternative hypothesis as a one-tailed test as follows: <br>\n",
    "$$H_1: \\mu_{C} - \\mu_{I} < 0 $$"
   ]
  },
  {
   "cell_type": "code",
   "execution_count": 37,
   "metadata": {},
   "outputs": [],
   "source": [
    "import pandas as pd\n",
    "import numpy as np\n",
    "import matplotlib.pyplot as plt\n",
    "% matplotlib inline"
   ]
  },
  {
   "cell_type": "code",
   "execution_count": 38,
   "metadata": {},
   "outputs": [
    {
     "data": {
      "text/html": [
       "<div>\n",
       "<style scoped>\n",
       "    .dataframe tbody tr th:only-of-type {\n",
       "        vertical-align: middle;\n",
       "    }\n",
       "\n",
       "    .dataframe tbody tr th {\n",
       "        vertical-align: top;\n",
       "    }\n",
       "\n",
       "    .dataframe thead th {\n",
       "        text-align: right;\n",
       "    }\n",
       "</style>\n",
       "<table border=\"1\" class=\"dataframe\">\n",
       "  <thead>\n",
       "    <tr style=\"text-align: right;\">\n",
       "      <th></th>\n",
       "      <th>Congruent</th>\n",
       "      <th>Incongruent</th>\n",
       "    </tr>\n",
       "  </thead>\n",
       "  <tbody>\n",
       "    <tr>\n",
       "      <th>0</th>\n",
       "      <td>12.079</td>\n",
       "      <td>19.278</td>\n",
       "    </tr>\n",
       "    <tr>\n",
       "      <th>1</th>\n",
       "      <td>16.791</td>\n",
       "      <td>18.741</td>\n",
       "    </tr>\n",
       "    <tr>\n",
       "      <th>2</th>\n",
       "      <td>9.564</td>\n",
       "      <td>21.214</td>\n",
       "    </tr>\n",
       "    <tr>\n",
       "      <th>3</th>\n",
       "      <td>8.630</td>\n",
       "      <td>15.687</td>\n",
       "    </tr>\n",
       "    <tr>\n",
       "      <th>4</th>\n",
       "      <td>14.669</td>\n",
       "      <td>22.803</td>\n",
       "    </tr>\n",
       "  </tbody>\n",
       "</table>\n",
       "</div>"
      ],
      "text/plain": [
       "   Congruent  Incongruent\n",
       "0     12.079       19.278\n",
       "1     16.791       18.741\n",
       "2      9.564       21.214\n",
       "3      8.630       15.687\n",
       "4     14.669       22.803"
      ]
     },
     "execution_count": 38,
     "metadata": {},
     "output_type": "execute_result"
    }
   ],
   "source": [
    "df = pd.read_csv('stroopdata.csv')\n",
    "df.head()"
   ]
  },
  {
   "cell_type": "markdown",
   "metadata": {},
   "source": [
    "As we can see above our sample of the population is fairly small. The **bootstrapping method** creates bigger samples out of our existing data and can even do this in multiple repetitions to allow significance testing. So, I decided to take this path for **hypothesis testing**. This method also doesn't require us to make any asumptions regarding the distribution of our data."
   ]
  },
  {
   "cell_type": "markdown",
   "metadata": {},
   "source": [
    "## Question 3: Report some descriptive statistics regarding this dataset. Include at least one measure of central tendency and at least one measure of variability."
   ]
  },
  {
   "cell_type": "code",
   "execution_count": 39,
   "metadata": {},
   "outputs": [
    {
     "name": "stdout",
     "output_type": "stream",
     "text": [
      "descriptive statistics for congruent data: \n",
      " mean:  14.051125000000004 standard deveation:  3.559357957645195\n",
      "descriptive statistics for incongruent data: \n",
      " mean:  22.01591666666667 standard deveation:  4.797057122469138\n"
     ]
    }
   ],
   "source": [
    "mean_congruent = df.Congruent.mean()\n",
    "std_congruent = df.Congruent.std()\n",
    "\n",
    "mean_incongruent = df.Incongruent.mean()\n",
    "std_incongruent = df.Incongruent.std()\n",
    "\n",
    "print('descriptive statistics for congruent data: \\n mean: ', mean_congruent, 'standard deveation: ', std_congruent)\n",
    "print('descriptive statistics for incongruent data: \\n mean: ', mean_incongruent, 'standard deveation: ', std_incongruent)"
   ]
  },
  {
   "cell_type": "code",
   "execution_count": 40,
   "metadata": {},
   "outputs": [
    {
     "name": "stdout",
     "output_type": "stream",
     "text": [
      "-7.964791666666665\n"
     ]
    }
   ],
   "source": [
    "# compute the difference in means of both data sets\n",
    "\n",
    "obs_diff = mean_congruent - mean_incongruent\n",
    "print(obs_diff)"
   ]
  },
  {
   "cell_type": "markdown",
   "metadata": {},
   "source": [
    "We can see that the difference in means is smaller than 0. In the upcoming examination, we will see if this difference is statistically significant."
   ]
  },
  {
   "cell_type": "markdown",
   "metadata": {},
   "source": [
    "## Question 4: Provide one or two visualizations that show the distribution of the sample data. Write one or two sentences noting what you observe about the plot or plots."
   ]
  },
  {
   "cell_type": "code",
   "execution_count": 41,
   "metadata": {
    "scrolled": true
   },
   "outputs": [
    {
     "data": {
      "image/png": "[encoded data removed]",
      "text/plain": [
       "<Figure size 432x288 with 1 Axes>"
      ]
     },
     "metadata": {},
     "output_type": "display_data"
    }
   ],
   "source": [
    "plt.hist(x=[df.Congruent, df.Incongruent], label=['congruent', 'incongruent'])\n",
    "plt.legend();"
   ]
  },
  {
   "cell_type": "markdown",
   "metadata": {},
   "source": [
    "The above visualization creates the impression, that there is a significant difference in the times it takes to complete the test for the two different groups. "
   ]
  },
  {
   "cell_type": "markdown",
   "metadata": {},
   "source": [
    "## Question 5: Now, perform the statistical test and report your results. What is your confidence level or Type I error associated with your test? What is your conclusion regarding the hypotheses you set up? Did the results match up with your expectations?"
   ]
  },
  {
   "cell_type": "code",
   "execution_count": 42,
   "metadata": {},
   "outputs": [],
   "source": [
    "# create sampling distribution of difference in average time it takes to complete the test\n",
    "\n",
    "diffs = []\n",
    "for _ in range(10000):\n",
    "    sample = df.sample(df.shape[0], replace=True)\n",
    "    congruent_mean = sample.Congruent.mean()\n",
    "    incongruent_mean = sample.Incongruent.mean()\n",
    "    sample_diff = congruent_mean - incongruent_mean\n",
    "    diffs.append(sample_diff)\n",
    "    \n",
    "# convert to numpy array\n",
    "diffs = np.array(diffs)"
   ]
  },
  {
   "cell_type": "code",
   "execution_count": 43,
   "metadata": {},
   "outputs": [
    {
     "data": {
      "image/png": "[encoded data removed]",
      "text/plain": [
       "<Figure size 432x288 with 1 Axes>"
      ]
     },
     "metadata": {},
     "output_type": "display_data"
    }
   ],
   "source": [
    "# plot sampling distribution\n",
    "plt.hist(diffs);"
   ]
  },
  {
   "cell_type": "code",
   "execution_count": 44,
   "metadata": {
    "scrolled": true
   },
   "outputs": [
    {
     "data": {
      "image/png": "[encoded data removed]",
      "text/plain": [
       "<Figure size 432x288 with 1 Axes>"
      ]
     },
     "metadata": {},
     "output_type": "display_data"
    }
   ],
   "source": [
    "# simulate distribution under the null hypothesis\n",
    "null_vals = np.random.normal(0, diffs.std(), 10000)\n",
    "\n",
    "# plot null distribution\n",
    "plt.hist(null_vals)\n",
    "\n",
    "# plot line for observed statistic\n",
    "plt.axvline(x=obs_diff, color='red');"
   ]
  },
  {
   "cell_type": "code",
   "execution_count": 45,
   "metadata": {},
   "outputs": [
    {
     "data": {
      "text/plain": [
       "0.0"
      ]
     },
     "execution_count": 45,
     "metadata": {},
     "output_type": "execute_result"
    }
   ],
   "source": [
    "# compute p value\n",
    "(null_vals < obs_diff).mean()"
   ]
  },
  {
   "cell_type": "markdown",
   "metadata": {},
   "source": [
    "**Conclusion:**\n",
    "\n",
    "We can notice that our differences in means simulated from the null hypothesis are all greater than our observed difference in means. This results in a p-value of 0. With a Type I error of 0.05, we reject the null hypothesis in favor of our alternative. <br>\n",
    "This also correlates with our assumption at the beginning of our examination, that it takes more time on average to complete the test with incongruent data."
   ]
  },
  {
   "cell_type": "markdown",
   "metadata": {},
   "source": [
    "## Question 6: What do you think is responsible for the effects observed? Can you think of an alternative or similar task that would result in a similar effect?\n",
    "\n",
    "The reason it took the participants of the test longer to solve the problems of the incongruent dataset, is that our brain is very quick to propose answers to questions that seem familiar to us. We can easily read the words that are written down and we are also quick the recognize the color of the written word when they are aligned with the expected input for our mind, that is formed from years of experience. So we can rush through the list with congruent data. <br><br>\n",
    "Now that we receive mixed signals with the incongruent dataset our brain starts to struggle. The intuitive system is not able to align it's hard trained knowledge and has to put in extra work in form of attention to solve the given task. This results in longer times and more errors to pass the test with incongruent data. <br><br>\n",
    "An experiment with similar results in the outcome would be, to present participants to list of words, that they had to read out loud and state the word and the position it is printed in the sheet of paper. The list for congruent data would list the words 'right' or 'left'. Each word would be aligned on the corresponding side of the sheet, meaning the word 'right' is bound to the right side of the sheet and vice versa. The incongruent dataset would mix this up, meaning the word 'right' is possible to be bound to the left side of the sheet. "
   ]
  },
  {
   "cell_type": "markdown",
   "metadata": {},
   "source": [
    "## Resources:\n",
    "\n",
    "http://www.dylanjorgensen.com/blog/t-testing-the-stroop-effect <br>\n",
    "https://de.wikipedia.org/wiki/Stroop-Effekt <br>\n",
    "german version of: Thinking, Fast and Slow by Daniel Kahneman"
   ]
  },
  {
   "cell_type": "code",
   "execution_count": null,
   "metadata": {},
   "outputs": [],
   "source": []
  }
 ],
 "metadata": {
  "kernelspec": {
   "display_name": "Python 3",
   "language": "python",
   "name": "python3"
  },
  "language_info": {
   "codemirror_mode": {
    "name": "ipython",
    "version": 3
   },
   "file_extension": ".py",
   "mimetype": "text/x-python",
   "name": "python",
   "nbconvert_exporter": "python",
   "pygments_lexer": "ipython3",
   "version": "3.6.6"
  }
 },
 "nbformat": 4,
 "nbformat_minor": 2
}
